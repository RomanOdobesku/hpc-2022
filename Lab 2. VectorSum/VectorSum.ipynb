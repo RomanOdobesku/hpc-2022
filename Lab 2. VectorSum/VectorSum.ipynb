{
 "metadata": {
  "colab": {
   "provenance": [],
   "collapsed_sections": []
  },
  "kernelspec": {
   "name": "python3",
   "display_name": "Python 3",
   "language": "python"
  },
  "language_info": {
   "name": "python",
   "version": "3.7.12",
   "mimetype": "text/x-python",
   "codemirror_mode": {
    "name": "ipython",
    "version": 3
   },
   "pygments_lexer": "ipython3",
   "nbconvert_exporter": "python",
   "file_extension": ".py"
  },
  "accelerator": "GPU"
 },
 "nbformat_minor": 4,
 "nbformat": 4,
 "cells": [
  {
   "cell_type": "markdown",
   "source": [
    "# HPC 2022, ЛР2 VectorSum, Одобеску Роман 6132\n",
    "Данная ЛР посвящена реализации нахождения суммы вектора с использованием CUDA. В рамках данной ЛР также будет произведены сравнения следующих реализаций:\n",
    "* на GPU (С++)\n",
    "* на CPU (С++)\n",
    "* на GPU через PyTorch (Python)\n",
    "* на CPU через NumPy (Python)\n",
    "\n",
    "Вся визуализация будет выполнена через Python. Данные для визуализации из C++ получаются путём копирования из вывода соответствующей ячейки."
   ],
   "metadata": {
    "id": "do2rYGdcYPBf",
    "pycharm": {
     "name": "#%% md\n"
    }
   }
  },
  {
   "cell_type": "markdown",
   "source": [
    "# Установка nvcc"
   ],
   "metadata": {
    "id": "bhzV7U1pSTtk",
    "pycharm": {
     "name": "#%% md\n"
    }
   }
  },
  {
   "cell_type": "markdown",
   "source": [
    "Проверка доступных GPU"
   ],
   "metadata": {
    "id": "hNCPlRd1XXIk",
    "pycharm": {
     "name": "#%% md\n"
    }
   }
  },
  {
   "cell_type": "code",
   "source": [
    "!nvidia-smi"
   ],
   "metadata": {
    "colab": {
     "base_uri": "https://localhost:8080/"
    },
    "id": "Aw06F-_2osZc",
    "outputId": "88f93735-1625-45a5-bd9b-d5ce0e5aac8d",
    "pycharm": {
     "name": "#%%\n"
    },
    "execution": {
     "iopub.status.busy": "2022-12-11T14:19:08.450650Z",
     "iopub.execute_input": "2022-12-11T14:19:08.451034Z",
     "iopub.status.idle": "2022-12-11T14:19:09.548322Z",
     "shell.execute_reply.started": "2022-12-11T14:19:08.451001Z",
     "shell.execute_reply": "2022-12-11T14:19:09.547006Z"
    },
    "trusted": true
   },
   "execution_count": 9,
   "outputs": [
    {
     "name": "stdout",
     "text": "Sun Dec 11 14:19:09 2022       \n+-----------------------------------------------------------------------------+\n| NVIDIA-SMI 470.82.01    Driver Version: 470.82.01    CUDA Version: 11.4     |\n|-------------------------------+----------------------+----------------------+\n| GPU  Name        Persistence-M| Bus-Id        Disp.A | Volatile Uncorr. ECC |\n| Fan  Temp  Perf  Pwr:Usage/Cap|         Memory-Usage | GPU-Util  Compute M. |\n|                               |                      |               MIG M. |\n|===============================+======================+======================|\n|   0  Tesla P100-PCIE...  Off  | 00000000:00:04.0 Off |                    0 |\n| N/A   32C    P0    32W / 250W |   2717MiB / 16280MiB |      0%      Default |\n|                               |                      |                  N/A |\n+-------------------------------+----------------------+----------------------+\n                                                                               \n+-----------------------------------------------------------------------------+\n| Processes:                                                                  |\n|  GPU   GI   CI        PID   Type   Process name                  GPU Memory |\n|        ID   ID                                                   Usage      |\n|=============================================================================|\n+-----------------------------------------------------------------------------+\n",
     "output_type": "stream"
    }
   ]
  },
  {
   "cell_type": "markdown",
   "source": [
    "Установка nvcc плагина для Jupyter"
   ],
   "metadata": {
    "id": "e6XZPdLLXdH4",
    "pycharm": {
     "name": "#%% md\n"
    }
   }
  },
  {
   "cell_type": "code",
   "source": [
    "!pip install git+https://github.com/andreinechaev/nvcc4jupyter.git"
   ],
   "metadata": {
    "id": "vWcZcXhUuhQT",
    "colab": {
     "base_uri": "https://localhost:8080/"
    },
    "outputId": "ebb2f1da-af5a-4585-bda5-6975bdbb8b70",
    "pycharm": {
     "name": "#%%\n"
    },
    "execution": {
     "iopub.status.busy": "2022-12-11T14:19:09.551007Z",
     "iopub.execute_input": "2022-12-11T14:19:09.551767Z",
     "iopub.status.idle": "2022-12-11T14:19:24.028334Z",
     "shell.execute_reply.started": "2022-12-11T14:19:09.551725Z",
     "shell.execute_reply": "2022-12-11T14:19:24.026851Z"
    },
    "trusted": true
   },
   "execution_count": 10,
   "outputs": [
    {
     "name": "stdout",
     "text": "Collecting git+https://github.com/andreinechaev/nvcc4jupyter.git\n  Cloning https://github.com/andreinechaev/nvcc4jupyter.git to /tmp/pip-req-build-u2x7hgw9\n  Running command git clone --filter=blob:none --quiet https://github.com/andreinechaev/nvcc4jupyter.git /tmp/pip-req-build-u2x7hgw9\n  Resolved https://github.com/andreinechaev/nvcc4jupyter.git to commit aac710a35f52bb78ab34d2e52517237941399eff\n  Preparing metadata (setup.py) ... \u001B[?25ldone\n\u001B[?25hBuilding wheels for collected packages: NVCCPlugin\n  Building wheel for NVCCPlugin (setup.py) ... \u001B[?25ldone\n\u001B[?25h  Created wheel for NVCCPlugin: filename=NVCCPlugin-0.0.2-py3-none-any.whl size=4306 sha256=1a94ef900ac396d1f3c16d95b6dd87cd9815fca6be48bc27931f006eba66a2c4\n  Stored in directory: /tmp/pip-ephem-wheel-cache-msvrbji1/wheels/ca/33/8d/3c86eb85e97d2b6169d95c6e8f2c297fdec60db6e84cb56f5e\nSuccessfully built NVCCPlugin\nInstalling collected packages: NVCCPlugin\nSuccessfully installed NVCCPlugin-0.0.2\n\u001B[33mWARNING: Running pip as the 'root' user can result in broken permissions and conflicting behaviour with the system package manager. It is recommended to use a virtual environment instead: https://pip.pypa.io/warnings/venv\u001B[0m\u001B[33m\n\u001B[0m",
     "output_type": "stream"
    }
   ]
  },
  {
   "cell_type": "code",
   "source": [
    "%load_ext nvcc_plugin"
   ],
   "metadata": {
    "colab": {
     "base_uri": "https://localhost:8080/"
    },
    "id": "PPhAwT39PgAN",
    "outputId": "ad069fb5-3f51-4ee2-f1d0-eb1bad039bc7",
    "pycharm": {
     "name": "#%%\n"
    },
    "execution": {
     "iopub.status.busy": "2022-12-11T14:19:24.031051Z",
     "iopub.execute_input": "2022-12-11T14:19:24.031455Z",
     "iopub.status.idle": "2022-12-11T14:19:24.050999Z",
     "shell.execute_reply.started": "2022-12-11T14:19:24.031414Z",
     "shell.execute_reply": "2022-12-11T14:19:24.049743Z"
    },
    "trusted": true
   },
   "execution_count": 11,
   "outputs": [
    {
     "name": "stdout",
     "text": "created output directory at /kaggle/working/src\nOut bin /kaggle/working/result.out\n",
     "output_type": "stream"
    }
   ]
  },
  {
   "cell_type": "code",
   "source": [
    "!nvcc --version"
   ],
   "metadata": {
    "pycharm": {
     "name": "#%%\n"
    },
    "execution": {
     "iopub.status.busy": "2022-12-11T14:19:24.052489Z",
     "iopub.execute_input": "2022-12-11T14:19:24.053398Z",
     "iopub.status.idle": "2022-12-11T14:19:25.042243Z",
     "shell.execute_reply.started": "2022-12-11T14:19:24.053362Z",
     "shell.execute_reply": "2022-12-11T14:19:25.040617Z"
    },
    "trusted": true
   },
   "execution_count": 12,
   "outputs": [
    {
     "name": "stdout",
     "text": "nvcc: NVIDIA (R) Cuda compiler driver\nCopyright (c) 2005-2020 NVIDIA Corporation\nBuilt on Wed_Jul_22_19:09:09_PDT_2020\nCuda compilation tools, release 11.0, V11.0.221\nBuild cuda_11.0_bu.TC445_37.28845127_0\n",
     "output_type": "stream"
    }
   ]
  },
  {
   "cell_type": "markdown",
   "source": [
    "# Основная часть на С++"
   ],
   "metadata": {
    "id": "qFgfg-fcSZXi",
    "pycharm": {
     "name": "#%% md\n"
    }
   }
  },
  {
   "cell_type": "code",
   "source": [
    "%%cu\n",
    "#include <cstdio>\n",
    "#include <iostream>\n",
    "#include \"assert.h\"\n",
    "#include <time.h>\n",
    "using namespace std;\n",
    "\n",
    "#define BLOCK_SIZE 1024\n",
    "int N = 134217728;\n",
    "\n",
    "\n",
    "// Если cudaError_t, который вернула cuda-функция, не cudaSuccess, то выводит обнаруженную ошибку\n",
    "void err_check(cudaError_t error){\n",
    "    if (error != cudaSuccess){\n",
    "        cout << \"Error\" << endl;\n",
    "        cerr << cudaGetErrorString(error) << endl;\n",
    "        exit(1);\n",
    "    }\n",
    "}\n",
    "\n",
    "__global__ void reduce4(int* inData, int* outData)\n",
    "{\n",
    "    __shared__ int data[BLOCK_SIZE];\n",
    "    int tid = threadIdx.x;\n",
    "    int i = 2 * blockIdx.x * blockDim.x + threadIdx.x;\n",
    "\n",
    "    data[tid] = inData[i] + inData[i+blockDim.x];      // load into shared memeory\n",
    "\n",
    "    __syncthreads();\n",
    "\n",
    "    for (int s = blockDim.x/2; s>0; s>>=1 )\n",
    "    {\n",
    "        if (tid < s)\n",
    "           data[tid] += data[tid + s];\n",
    "\n",
    "        __syncthreads();\n",
    "    }\n",
    "\n",
    "    if (tid == 0)                                       // write result of block reduction\n",
    "        outData[blockIdx.x] = data[0];\n",
    "}\n",
    "\n",
    "\n",
    "long clp2(long x) {\n",
    " long p2=1;\n",
    " while (1) {\n",
    "  if (p2>=x) return p2;\n",
    "  p2<<=1;\n",
    " }\n",
    " return 0;\n",
    "}\n",
    "\n",
    "\n",
    "int main(int argc, char *  argv[])\n",
    "{\n",
    "    int nearest_power_of_2 = clp2(N);\n",
    "    \n",
    "    int * a = new int[nearest_power_of_2];\n",
    "    int * b = new int[nearest_power_of_2];\n",
    "\n",
    "    int n = nearest_power_of_2;\n",
    "    int numBytes = n * sizeof(int);\n",
    "    \n",
    "    for (int i = 0; i < N; i++)\n",
    "    {\n",
    "        a[i] = (rand() & 0xFF) - 127; //(rand() & 0xFF) - 127;\n",
    "    }\n",
    "    \n",
    "    double cpu_time;\n",
    "    int sum = 0;\n",
    "    \n",
    "    clock_t start_cpu, end_cpu;\n",
    "    start_cpu = clock();\n",
    "    \n",
    "    for (int i = 0; i < N; i++){\n",
    "        sum  += a[i];\n",
    "    }\n",
    "    \n",
    "    end_cpu = clock();\n",
    "    cpu_time = 1.0f * (end_cpu - start_cpu) / CLOCKS_PER_SEC;\n",
    "    printf(\"time spent executing cpu: %lf milliseconds\\n\",cpu_time*1000);\n",
    "    \n",
    "    for (int i = N; i < nearest_power_of_2; i++){\n",
    "        a[i] = 0;\n",
    "    }\n",
    "\n",
    "    int* adev[2] = { NULL, NULL };\n",
    "    cudaEvent_t start, stop;\n",
    "    float gpuTime = 0.0f;\n",
    "\n",
    "    err_check(cudaMalloc((void**)&adev[0], numBytes));\n",
    "    err_check(cudaMalloc((void**)&adev[1], numBytes));\n",
    "    \n",
    "    err_check(cudaMemcpy(adev[0], a, numBytes, cudaMemcpyHostToDevice));\n",
    "\n",
    "    cudaEventCreate(&start);\n",
    "    cudaEventCreate(&stop);\n",
    "\n",
    "    cudaEventRecord(start, 0);\n",
    "    \n",
    "    \n",
    "    int grid_size = n / (2*BLOCK_SIZE);\n",
    "    \n",
    "    if(grid_size==0){\n",
    "       grid_size=1; \n",
    "    }\n",
    "       \n",
    "    dim3 dimBlock(BLOCK_SIZE, 1, 1);\n",
    "    dim3 dimGrid(grid_size, 1, 1);\n",
    "\n",
    "    reduce4<<<dimGrid, dimBlock>>>(adev[0], adev[1]);\n",
    "\n",
    "    err_check(cudaDeviceSynchronize());\n",
    "    \n",
    "    // n/=(2*BLOCK_SIZE);\n",
    "    \n",
    "    cudaEventRecord(stop, 0);\n",
    "    cudaEventSynchronize(stop);\n",
    "    cudaEventElapsedTime(&gpuTime, start, stop);\n",
    "    \n",
    "    cudaMemcpy(b, adev[1], numBytes, cudaMemcpyDeviceToHost);\n",
    "\n",
    "    for (int i = 1; i < grid_size; i++){\n",
    "        b[0] += b[i];\n",
    "    }\n",
    "    \n",
    "    // print the cpu and gpu times\n",
    "    printf(\"time spent executing by the GPU: %.4f milliseconds\\n\", gpuTime);\n",
    "    printf(\"CPU sum %d, CUDA sum %d, N = %d\\n\", sum, b[0], N);\n",
    "\n",
    "    // release resources\n",
    "    cudaEventDestroy(start);\n",
    "    cudaEventDestroy(stop);\n",
    "    cudaFree(adev[0]);\n",
    "    cudaFree(adev[1]);\n",
    "\n",
    "    delete a;\n",
    "    delete b;\n",
    "\n",
    "    return 0;\n",
    "}"
   ],
   "metadata": {
    "id": "XfOE8VmzPo4c",
    "colab": {
     "base_uri": "https://localhost:8080/"
    },
    "outputId": "8f19ff3b-f7e0-4126-bae0-0eed6635730c",
    "pycharm": {
     "name": "#%%\n"
    },
    "execution": {
     "iopub.status.busy": "2022-12-11T14:24:03.492069Z",
     "iopub.execute_input": "2022-12-11T14:24:03.492440Z",
     "iopub.status.idle": "2022-12-11T14:24:07.495230Z",
     "shell.execute_reply.started": "2022-12-11T14:24:03.492408Z",
     "shell.execute_reply": "2022-12-11T14:24:07.494102Z"
    },
    "trusted": true
   },
   "execution_count": 24,
   "outputs": [
    {
     "name": "stdout",
     "text": "time spent executing cpu: 334.381998 milliseconds\ntime spent executing by the GPU: 3.7522 milliseconds\nCPU sum 67968979, CUDA sum 67968979, N = 134217728\n\n",
     "output_type": "stream"
    }
   ]
  },
  {
   "cell_type": "markdown",
   "source": [
    "# Python (NumPy, PyTorch)"
   ],
   "metadata": {
    "id": "9qF-4bljzAL-",
    "pycharm": {
     "name": "#%% md\n"
    }
   }
  },
  {
   "cell_type": "code",
   "source": [
    "import torch\n",
    "import numpy as np\n",
    "import time\n",
    "\n",
    "import matplotlib.pyplot as plt\n",
    "import seaborn as sns\n",
    "import plotly.express as px\n",
    "import pandas as pd"
   ],
   "metadata": {
    "id": "stopi8C2y_aC",
    "pycharm": {
     "name": "#%%\n"
    },
    "execution": {
     "iopub.status.busy": "2022-12-11T14:24:26.749477Z",
     "iopub.execute_input": "2022-12-11T14:24:26.750504Z",
     "iopub.status.idle": "2022-12-11T14:24:26.758799Z",
     "shell.execute_reply.started": "2022-12-11T14:24:26.750462Z",
     "shell.execute_reply": "2022-12-11T14:24:26.757810Z"
    },
    "trusted": true
   },
   "execution_count": 25,
   "outputs": []
  },
  {
   "cell_type": "code",
   "source": [
    "time_list_c_cpu = [0.363000, 0.658000, 1.270000, 2.472000, 5.052000, 9.947000, 21.284999, 41.464999, 80.723003, 161.990002, 334.381998]\n",
    "time_list_c_gpu = [0.0265, 0.0289, 0.0354, 0.0504, 0.0820, 0.1433, 0.2569, 0.4891, 0.9576, 1.8888, 3.7522]"
   ],
   "metadata": {
    "execution": {
     "iopub.status.busy": "2022-12-11T14:24:26.926401Z",
     "iopub.execute_input": "2022-12-11T14:24:26.926780Z",
     "iopub.status.idle": "2022-12-11T14:24:26.932286Z",
     "shell.execute_reply.started": "2022-12-11T14:24:26.926747Z",
     "shell.execute_reply": "2022-12-11T14:24:26.931272Z"
    },
    "trusted": true,
    "pycharm": {
     "name": "#%%\n"
    }
   },
   "execution_count": 26,
   "outputs": []
  },
  {
   "cell_type": "code",
   "source": [
    "np.random.seed(42)\n",
    "time_list_numpy = list()\n",
    "for dim in [131072, 262144, 524288, 1048576, 2097152, 4194304, 8388608, 16777216, 33554432, 67108864, 134217728]:\n",
    "    mas = np.random.randint(-127, 127, dim)\n",
    "    avg_time=0\n",
    "    for j in range(10):\n",
    "        start = time.time()\n",
    "        s = np.sum(mas)\n",
    "        stop = time.time()\n",
    "        avg_time+=(stop-start)\n",
    "    avg_time/=10\n",
    "    time_list_numpy.append(avg_time*1000)\n",
    "print(f'\\'numpy_time\\': {time_list_numpy}')"
   ],
   "metadata": {
    "execution": {
     "iopub.status.busy": "2022-12-11T14:24:27.834311Z",
     "iopub.execute_input": "2022-12-11T14:24:27.835116Z",
     "iopub.status.idle": "2022-12-11T14:24:32.059809Z",
     "shell.execute_reply.started": "2022-12-11T14:24:27.835079Z",
     "shell.execute_reply": "2022-12-11T14:24:32.058703Z"
    },
    "trusted": true,
    "pycharm": {
     "name": "#%%\n"
    }
   },
   "execution_count": 27,
   "outputs": [
    {
     "name": "stdout",
     "text": "'numpy_time': [0.1322031021118164, 0.1896381378173828, 0.3351926803588867, 0.6592750549316406, 1.3870716094970703, 3.0961990356445312, 7.091498374938965, 14.714813232421875, 29.715251922607422, 59.682488441467285, 119.69974040985107]\n",
     "output_type": "stream"
    }
   ]
  },
  {
   "cell_type": "code",
   "source": [
    "np.random.seed(42)\n",
    "time_list_torch_cpu = list()\n",
    "for dim in [131072, 262144, 524288, 1048576, 2097152, 4194304, 8388608, 16777216, 33554432, 67108864, 134217728]:\n",
    "    mas = torch.tensor(np.random.randint(-127, 127, dim))\n",
    "    avg_time=0\n",
    "    for j in range(10):\n",
    "        start = time.time()\n",
    "        s = torch.sum(mas)\n",
    "        stop = time.time()\n",
    "        avg_time+=(stop-start)\n",
    "    avg_time/=10\n",
    "    time_list_torch_cpu.append(avg_time*1000)\n",
    "print(f'\\'torch_cpu_time\\': {time_list_torch_cpu}')"
   ],
   "metadata": {
    "execution": {
     "iopub.status.busy": "2022-12-11T14:24:32.062121Z",
     "iopub.execute_input": "2022-12-11T14:24:32.062752Z",
     "iopub.status.idle": "2022-12-11T14:24:37.456442Z",
     "shell.execute_reply.started": "2022-12-11T14:24:32.062713Z",
     "shell.execute_reply": "2022-12-11T14:24:37.455453Z"
    },
    "trusted": true,
    "pycharm": {
     "name": "#%%\n"
    }
   },
   "execution_count": 28,
   "outputs": [
    {
     "name": "stdout",
     "text": "'torch_cpu_time': [0.04832744598388672, 0.11134147644042969, 0.1827239990234375, 0.35228729248046875, 0.7841587066650391, 1.8709421157836914, 5.008149147033691, 10.68127155303955, 23.559021949768066, 44.33009624481201, 109.26220417022705]\n",
     "output_type": "stream"
    }
   ]
  },
  {
   "cell_type": "code",
   "source": [
    "np.random.seed(42)\n",
    "time_list_torch_gpu = list()\n",
    "for dim in [131072, 262144, 524288, 1048576, 2097152, 4194304, 8388608, 16777216, 33554432, 67108864, 134217728]:\n",
    "    mas = torch.tensor(np.random.randint(-127, 127, dim)).to('cuda:0')\n",
    "    avg_time=0\n",
    "    for j in range(10):\n",
    "        start = time.time()\n",
    "        s = torch.sum(mas)\n",
    "        stop = time.time()\n",
    "        avg_time+=(stop-start)\n",
    "    avg_time/=10\n",
    "    time_list_torch_gpu.append(avg_time*1000)\n",
    "print(f'\\'torch_gpu_time\\': {time_list_torch_gpu}')"
   ],
   "metadata": {
    "execution": {
     "iopub.status.busy": "2022-12-11T14:24:37.457531Z",
     "iopub.execute_input": "2022-12-11T14:24:37.457896Z",
     "iopub.status.idle": "2022-12-11T14:24:41.655248Z",
     "shell.execute_reply.started": "2022-12-11T14:24:37.457858Z",
     "shell.execute_reply": "2022-12-11T14:24:41.654212Z"
    },
    "trusted": true,
    "pycharm": {
     "name": "#%%\n"
    }
   },
   "execution_count": 29,
   "outputs": [
    {
     "name": "stdout",
     "text": "'torch_gpu_time': [0.04024505615234375, 0.046372413635253906, 0.023818016052246094, 0.02110004425048828, 0.034117698669433594, 0.022745132446289062, 0.02243518829345703, 0.02319812774658203, 0.023317337036132812, 0.025272369384765625, 0.03638267517089844]\n",
     "output_type": "stream"
    }
   ]
  },
  {
   "cell_type": "code",
   "source": [
    "params = {\n",
    "    'dim':         [131072, 262144, 524288, 1048576, 2097152, 4194304, 8388608, 16777216, 33554432, 67108864, 134217728],\n",
    "    'cpu_time (ms)':     time_list_c_cpu,\n",
    "    'gpu_time (ms)':     time_list_c_gpu,\n",
    "    'pytorch_cpu_time (ms)': time_list_torch_cpu,\n",
    "    'pytorch_gpu_time (ms)': time_list_torch_gpu,\n",
    "    'numpy_time (ms)': time_list_numpy\n",
    "}\n",
    "\n",
    "exp_count = len(params[\"dim\"])"
   ],
   "metadata": {
    "execution": {
     "iopub.status.busy": "2022-12-11T15:06:02.324010Z",
     "iopub.execute_input": "2022-12-11T15:06:02.324381Z",
     "iopub.status.idle": "2022-12-11T15:06:02.330694Z",
     "shell.execute_reply.started": "2022-12-11T15:06:02.324348Z",
     "shell.execute_reply": "2022-12-11T15:06:02.329547Z"
    },
    "trusted": true,
    "pycharm": {
     "name": "#%%\n"
    }
   },
   "execution_count": 44,
   "outputs": []
  },
  {
   "cell_type": "code",
   "source": [
    "import pandas as pd"
   ],
   "metadata": {
    "execution": {
     "iopub.status.busy": "2022-12-11T15:06:02.521345Z",
     "iopub.execute_input": "2022-12-11T15:06:02.521709Z",
     "iopub.status.idle": "2022-12-11T15:06:02.526208Z",
     "shell.execute_reply.started": "2022-12-11T15:06:02.521676Z",
     "shell.execute_reply": "2022-12-11T15:06:02.525016Z"
    },
    "trusted": true,
    "pycharm": {
     "name": "#%%\n"
    }
   },
   "execution_count": 45,
   "outputs": []
  },
  {
   "cell_type": "code",
   "source": [
    "pd.DataFrame(params)"
   ],
   "metadata": {
    "execution": {
     "iopub.status.busy": "2022-12-11T15:06:02.878749Z",
     "iopub.execute_input": "2022-12-11T15:06:02.879434Z",
     "iopub.status.idle": "2022-12-11T15:06:02.899363Z",
     "shell.execute_reply.started": "2022-12-11T15:06:02.879391Z",
     "shell.execute_reply": "2022-12-11T15:06:02.898434Z"
    },
    "trusted": true,
    "pycharm": {
     "name": "#%%\n"
    }
   },
   "execution_count": 46,
   "outputs": [
    {
     "execution_count": 46,
     "output_type": "execute_result",
     "data": {
      "text/plain": "          dim  cpu_time (ms)  gpu_time (ms)  pytorch_cpu_time (ms)  \\\n0      131072       0.363000         0.0265               0.048327   \n1      262144       0.658000         0.0289               0.111341   \n2      524288       1.270000         0.0354               0.182724   \n3     1048576       2.472000         0.0504               0.352287   \n4     2097152       5.052000         0.0820               0.784159   \n5     4194304       9.947000         0.1433               1.870942   \n6     8388608      21.284999         0.2569               5.008149   \n7    16777216      41.464999         0.4891              10.681272   \n8    33554432      80.723003         0.9576              23.559022   \n9    67108864     161.990002         1.8888              44.330096   \n10  134217728     334.381998         3.7522             109.262204   \n\n    pytorch_gpu_time (ms)  numpy_time (ms)  \n0                0.040245         0.132203  \n1                0.046372         0.189638  \n2                0.023818         0.335193  \n3                0.021100         0.659275  \n4                0.034118         1.387072  \n5                0.022745         3.096199  \n6                0.022435         7.091498  \n7                0.023198        14.714813  \n8                0.023317        29.715252  \n9                0.025272        59.682488  \n10               0.036383       119.699740  ",
      "text/html": "<div>\n<style scoped>\n    .dataframe tbody tr th:only-of-type {\n        vertical-align: middle;\n    }\n\n    .dataframe tbody tr th {\n        vertical-align: top;\n    }\n\n    .dataframe thead th {\n        text-align: right;\n    }\n</style>\n<table border=\"1\" class=\"dataframe\">\n  <thead>\n    <tr style=\"text-align: right;\">\n      <th></th>\n      <th>dim</th>\n      <th>cpu_time (ms)</th>\n      <th>gpu_time (ms)</th>\n      <th>pytorch_cpu_time (ms)</th>\n      <th>pytorch_gpu_time (ms)</th>\n      <th>numpy_time (ms)</th>\n    </tr>\n  </thead>\n  <tbody>\n    <tr>\n      <th>0</th>\n      <td>131072</td>\n      <td>0.363000</td>\n      <td>0.0265</td>\n      <td>0.048327</td>\n      <td>0.040245</td>\n      <td>0.132203</td>\n    </tr>\n    <tr>\n      <th>1</th>\n      <td>262144</td>\n      <td>0.658000</td>\n      <td>0.0289</td>\n      <td>0.111341</td>\n      <td>0.046372</td>\n      <td>0.189638</td>\n    </tr>\n    <tr>\n      <th>2</th>\n      <td>524288</td>\n      <td>1.270000</td>\n      <td>0.0354</td>\n      <td>0.182724</td>\n      <td>0.023818</td>\n      <td>0.335193</td>\n    </tr>\n    <tr>\n      <th>3</th>\n      <td>1048576</td>\n      <td>2.472000</td>\n      <td>0.0504</td>\n      <td>0.352287</td>\n      <td>0.021100</td>\n      <td>0.659275</td>\n    </tr>\n    <tr>\n      <th>4</th>\n      <td>2097152</td>\n      <td>5.052000</td>\n      <td>0.0820</td>\n      <td>0.784159</td>\n      <td>0.034118</td>\n      <td>1.387072</td>\n    </tr>\n    <tr>\n      <th>5</th>\n      <td>4194304</td>\n      <td>9.947000</td>\n      <td>0.1433</td>\n      <td>1.870942</td>\n      <td>0.022745</td>\n      <td>3.096199</td>\n    </tr>\n    <tr>\n      <th>6</th>\n      <td>8388608</td>\n      <td>21.284999</td>\n      <td>0.2569</td>\n      <td>5.008149</td>\n      <td>0.022435</td>\n      <td>7.091498</td>\n    </tr>\n    <tr>\n      <th>7</th>\n      <td>16777216</td>\n      <td>41.464999</td>\n      <td>0.4891</td>\n      <td>10.681272</td>\n      <td>0.023198</td>\n      <td>14.714813</td>\n    </tr>\n    <tr>\n      <th>8</th>\n      <td>33554432</td>\n      <td>80.723003</td>\n      <td>0.9576</td>\n      <td>23.559022</td>\n      <td>0.023317</td>\n      <td>29.715252</td>\n    </tr>\n    <tr>\n      <th>9</th>\n      <td>67108864</td>\n      <td>161.990002</td>\n      <td>1.8888</td>\n      <td>44.330096</td>\n      <td>0.025272</td>\n      <td>59.682488</td>\n    </tr>\n    <tr>\n      <th>10</th>\n      <td>134217728</td>\n      <td>334.381998</td>\n      <td>3.7522</td>\n      <td>109.262204</td>\n      <td>0.036383</td>\n      <td>119.699740</td>\n    </tr>\n  </tbody>\n</table>\n</div>"
     },
     "metadata": {}
    }
   ]
  },
  {
   "cell_type": "code",
   "source": [
    "A = np.array(params['dim'])\n",
    "gpu_time = np.array(params['gpu_time (ms)'])\n",
    "cpu_time = np.array(params['cpu_time (ms)'])\n",
    "pytorch_cpu_time = np.array(params['pytorch_cpu_time (ms)'])\n",
    "pytorch_gpu_time = np.array(params['pytorch_gpu_time (ms)'])\n",
    "numpy_time = np.array(params['numpy_time (ms)'])\n",
    "\n",
    "speed_ratio = cpu_time / gpu_time\n",
    "\n",
    "fig, axs = plt.subplots(ncols=4, figsize=(20, 4))\n",
    "\n",
    "axs[0].set_title(\"Время различных реализаций\")\n",
    "axs[0].set_xlabel(\"Размерность\")\n",
    "axs[0].set_ylabel(\"Время, ms\")\n",
    "axs[0].grid()\n",
    "sns.scatterplot(x=A, y=cpu_time, ax=axs[0])\n",
    "sns.scatterplot(x=A, y=gpu_time, ax=axs[0])\n",
    "sns.scatterplot(x=A, y=pytorch_cpu_time, ax=axs[0])\n",
    "sns.scatterplot(x=A, y=pytorch_gpu_time, ax=axs[0])\n",
    "sns.scatterplot(x=A, y=numpy_time, ax=axs[0])\n",
    "sns.lineplot(x=A, y=cpu_time, ax=axs[0], label=\"cpu (C++)\")\n",
    "sns.lineplot(x=A, y=gpu_time, ax=axs[0], label=\"gpu (C++)\")\n",
    "sns.lineplot(x=A, y=pytorch_cpu_time, ax=axs[0], label=\"pytorch cpu\")\n",
    "sns.lineplot(x=A, y=pytorch_gpu_time, ax=axs[0], label=\"pytorch gpu\")\n",
    "sns.lineplot(x=A, y=numpy_time, ax=axs[0], label=\"numpy\")\n",
    "\n",
    "axs[1].set_title(\"Время различных реализаций\")\n",
    "axs[1].set_xlabel(\"Размерность\")\n",
    "axs[1].set_ylabel(\"Время, ms\")\n",
    "axs[1].grid()\n",
    "sns.scatterplot(x=A, y=gpu_time, ax=axs[1])\n",
    "sns.scatterplot(x=A, y=pytorch_cpu_time, ax=axs[1])\n",
    "sns.scatterplot(x=A, y=pytorch_gpu_time, ax=axs[1])\n",
    "sns.scatterplot(x=A, y=numpy_time, ax=axs[1])\n",
    "sns.lineplot(x=A, y=gpu_time, ax=axs[1], label=\"gpu (C++)\")\n",
    "sns.lineplot(x=A, y=pytorch_cpu_time, ax=axs[1], label=\"pytorch cpu\")\n",
    "sns.lineplot(x=A, y=pytorch_gpu_time, ax=axs[1], label=\"pytorch gpu\")\n",
    "sns.lineplot(x=A, y=numpy_time, ax=axs[1], label=\"numpy\")\n",
    "\n",
    "axs[2].set_title(\"Время различных реализаций\")\n",
    "axs[2].set_xlabel(\"Размерность\")\n",
    "axs[2].set_ylabel(\"Время, ms\")\n",
    "axs[2].grid()\n",
    "sns.scatterplot(x=A, y=gpu_time, ax=axs[2])\n",
    "sns.scatterplot(x=A, y=pytorch_gpu_time, ax=axs[2])\n",
    "sns.lineplot(x=A, y=gpu_time, ax=axs[2], label=\"gpu (C++)\")\n",
    "sns.lineplot(x=A, y=pytorch_gpu_time, ax=axs[2], label=\"pytorch gpu\")\n",
    "\n",
    "axs[3].set_title(\"Ускорение GPU (C++) относительно CPU (C++)\")\n",
    "axs[3].set_xlabel(\"Размерность\")\n",
    "axs[3].set_ylabel(\"Ускорение\")\n",
    "axs[3].grid()\n",
    "\n",
    "sns.scatterplot(x=A, y=speed_ratio, ax=axs[3])\n",
    "sns.lineplot(x=A, y=speed_ratio, ax=axs[3])"
   ],
   "metadata": {
    "execution": {
     "iopub.status.busy": "2022-12-11T15:12:53.318607Z",
     "iopub.execute_input": "2022-12-11T15:12:53.319124Z",
     "iopub.status.idle": "2022-12-11T15:12:54.402431Z",
     "shell.execute_reply.started": "2022-12-11T15:12:53.319092Z",
     "shell.execute_reply": "2022-12-11T15:12:54.401558Z"
    },
    "trusted": true,
    "pycharm": {
     "name": "#%%\n"
    }
   },
   "execution_count": 48,
   "outputs": [
    {
     "execution_count": 48,
     "output_type": "execute_result",
     "data": {
      "text/plain": "<AxesSubplot:title={'center':'Ускорение GPU (C++) относительно CPU (C++)'}, xlabel='Размерность', ylabel='Ускорение'>"
     },
     "metadata": {}
    },
    {
     "output_type": "display_data",
     "data": {
      "text/plain": "<Figure size 1440x288 with 4 Axes>",
      "image/png": "[encoded data removed]"
     },
     "metadata": {
      "needs_background": "light"
     }
    }
   ]
  },
  {
   "cell_type": "code",
   "source": [],
   "metadata": {
    "id": "fJcDoEnRHU0Z",
    "pycharm": {
     "name": "#%%\n"
    }
   },
   "execution_count": null,
   "outputs": []
  }
 ]
}
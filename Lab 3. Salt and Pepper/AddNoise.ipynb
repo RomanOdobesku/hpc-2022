{
 "cells": [
  {
   "cell_type": "code",
   "execution_count": 8,
   "id": "15c8390f",
   "metadata": {},
   "outputs": [
    {
     "data": {
      "text/plain": [
       "True"
      ]
     },
     "execution_count": 8,
     "metadata": {},
     "output_type": "execute_result"
    }
   ],
   "source": [
    "import random\n",
    "import cv2\n",
    "  \n",
    "def addNoise(img):\n",
    "    row , col = img.shape\n",
    "    number_of_pixels = random.randint(2000 , 4000)\n",
    "    for i in range(number_of_pixels):\n",
    "        y_coord=random.randint(0, row - 1)\n",
    "        x_coord=random.randint(0, col - 1)\n",
    "        img[y_coord][x_coord] = 255\n",
    "\n",
    "    number_of_pixels = random.randint(2000 , 4000)\n",
    "    for i in range(number_of_pixels):\n",
    "        y_coord=random.randint(0, row - 1)\n",
    "        x_coord=random.randint(0, col - 1)\n",
    "        img[y_coord][x_coord] = 0\n",
    "          \n",
    "    return img\n",
    "  \n",
    "img = cv2.imread(\"Lena512.jpg\", cv2.IMREAD_GRAYSCALE)\n",
    "cv2.imwrite(\"input512.jpg\", addNoise(img))"
   ]
  }
 ],
 "metadata": {
  "kernelspec": {
   "display_name": "Python 3 (ipykernel)",
   "language": "python",
   "name": "python3"
  },
  "language_info": {
   "codemirror_mode": {
    "name": "ipython",
    "version": 3
   },
   "file_extension": ".py",
   "mimetype": "text/x-python",
   "name": "python",
   "nbconvert_exporter": "python",
   "pygments_lexer": "ipython3",
   "version": "3.10.6"
  }
 },
 "nbformat": 4,
 "nbformat_minor": 5
}
